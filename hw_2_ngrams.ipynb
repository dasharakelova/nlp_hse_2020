{
  "nbformat": 4,
  "nbformat_minor": 0,
  "metadata": {
    "colab": {
      "name": "nlp_homework_2.ipynb",
      "provenance": []
    },
    "kernelspec": {
      "name": "python3",
      "display_name": "Python 3"
    }
  },
  "cells": [
    {
      "cell_type": "code",
      "metadata": {
        "id": "MSlDEPBTwyaC"
      },
      "source": [
        "from nltk.tokenize import sent_tokenize\n",
        "from string import punctuation\n",
        "from razdel import sentenize\n",
        "from razdel import tokenize as razdel_tokenize\n",
        "from collections import Counter\n",
        "import numpy as np"
      ],
      "execution_count": 1,
      "outputs": []
    },
    {
      "cell_type": "markdown",
      "metadata": {
        "id": "B-7eLrp4Fg-_"
      },
      "source": [
        "**Задание 1**"
      ]
    },
    {
      "cell_type": "code",
      "metadata": {
        "id": "bWQdyRjmw63-"
      },
      "source": [
        "with open('2ch_corpus.txt', 'r', encoding='utf-8') as f1, open('lenta.txt', 'r', encoding='utf-8') as f2:\n",
        "    dvach = f1.read()[:400000]\n",
        "    lenta = f2.read()[:400000]"
      ],
      "execution_count": null,
      "outputs": []
    },
    {
      "cell_type": "markdown",
      "metadata": {
        "id": "XGZe1sPCFoL_"
      },
      "source": [
        "К сожалению, даже на колабе на хватает памяти ни для полных корпусов, ни даже для их половины, поэтому пришлось урезать вот так. Из-за этого, конечно, пострадала творческая составляющая в генерации текстов (т.е. они, наверное, частично просто повторяют тексты из корпуса)."
      ]
    },
    {
      "cell_type": "code",
      "metadata": {
        "id": "5nkiOytXw60J"
      },
      "source": [
        "def normalize(text):\n",
        "    normalized_text = [word.text.strip(punctuation) for word in razdel_tokenize(text)]\n",
        "    normalized_text = [word.lower() for word in normalized_text if word and len(word) < 20 ]\n",
        "    return normalized_text"
      ],
      "execution_count": 2,
      "outputs": []
    },
    {
      "cell_type": "code",
      "metadata": {
        "id": "NiPDesjbw6uq"
      },
      "source": [
        "def ngrammer(tokens, n=3):\n",
        "    ngrams = []\n",
        "    for i in range(0,len(tokens)-n+1):\n",
        "        ngrams.append(' '.join(tokens[i:i+n]))\n",
        "    return ngrams"
      ],
      "execution_count": 3,
      "outputs": []
    },
    {
      "cell_type": "code",
      "metadata": {
        "id": "9NGRug3Ow6ed"
      },
      "source": [
        "sentences_dvach = [['<start>'] + ['<start>'] + normalize(text) + ['<end>'] for text in sent_tokenize(dvach)]\n",
        "sentences_news = [['<start>'] + ['<start>'] + normalize(text) + ['<end>'] for text in sent_tokenize(lenta)]"
      ],
      "execution_count": null,
      "outputs": []
    },
    {
      "cell_type": "code",
      "metadata": {
        "id": "FB24CwWGyfxs"
      },
      "source": [
        "unigrams_dvach = Counter()\n",
        "bigrams_dvach = Counter()\n",
        "trigrams_dvach = Counter()\n",
        "\n",
        "for sentence in sentences_dvach:\n",
        "    unigrams_dvach.update(sentence)\n",
        "    bigrams_dvach.update(ngrammer(sentence, n=2))\n",
        "    trigrams_dvach.update(ngrammer(sentence))\n",
        "\n",
        "\n",
        "unigrams_news = Counter()\n",
        "bigrams_news = Counter()\n",
        "trigrams_news = Counter()\n",
        "\n",
        "for sentence in sentences_news:\n",
        "    unigrams_news.update(sentence)\n",
        "    bigrams_news.update(ngrammer(sentence, n=2))\n",
        "    trigrams_news.update(ngrammer(sentence))"
      ],
      "execution_count": null,
      "outputs": []
    },
    {
      "cell_type": "code",
      "metadata": {
        "id": "H9pTjl8jyfvR"
      },
      "source": [
        "matrix_dvach = np.zeros((len(bigrams_dvach), len(unigrams_dvach)))\n",
        "\n",
        "id2word_dvach = list(unigrams_dvach)\n",
        "bi_id2word_dvach = list(bigrams_dvach)\n",
        "word2id_dvach = {word:i for i, word in enumerate(id2word_dvach)}\n",
        "bi_word2id_dvach = {word:i for i, word in enumerate(bi_id2word_dvach)}\n",
        "\n",
        "for ngram in trigrams_dvach:\n",
        "    words12 = ' '.join(ngram.split()[:2])\n",
        "    word3 = ngram.split()[2]\n",
        "    matrix_dvach[bi_word2id_dvach[words12]][word2id_dvach[word3]] =  (trigrams_dvach[ngram]/\n",
        "                                                                     bigrams_dvach[words12])"
      ],
      "execution_count": null,
      "outputs": []
    },
    {
      "cell_type": "code",
      "metadata": {
        "id": "uafBm4Y50FUw"
      },
      "source": [
        "matrix_news = np.zeros((len(bigrams_news), len(unigrams_news)))\n",
        "\n",
        "id2word_news = list(unigrams_news)\n",
        "bi_id2word_news = list(bigrams_news)\n",
        "word2id_news = {word:i for i, word in enumerate(id2word_news)}\n",
        "bi_word2id_news = {word:i for i, word in enumerate(bi_id2word_news)}\n",
        "\n",
        "\n",
        "# вероятность расчитываем точно также\n",
        "for ngram in trigrams_news:\n",
        "    words12 = ' '.join(ngram.split()[:2])\n",
        "    word3 = ngram.split()[2]\n",
        "    matrix_news[bi_word2id_news[words12]][word2id_news[word3]] =  (trigrams_news[ngram]/\n",
        "                                                                     bigrams_news[words12])"
      ],
      "execution_count": null,
      "outputs": []
    },
    {
      "cell_type": "code",
      "metadata": {
        "id": "xcEmALSCyfR9"
      },
      "source": [
        "def generate(matrix, id2word, bi_word2id, n=100, start='<start> <start>'):\n",
        "    text = []\n",
        "    current_idx = bi_word2id[start]\n",
        "    current_bigram = start\n",
        "\n",
        "    for i in range(n):\n",
        "        \n",
        "        chosen = np.random.choice(matrix.shape[1], p=matrix[current_idx])\n",
        "        #print('следующее слово: ' + id2word[chosen])\n",
        "        text.append(id2word[chosen])\n",
        "        current_bigram = current_bigram.split()[1] + ' ' + id2word[chosen]\n",
        "\n",
        "        if id2word[chosen] == '<end>':\n",
        "            chosen = bi_word2id['<start> <start>']\n",
        "            current_bigram = '<start> <start>'\n",
        "        #print(current_bigram)\n",
        "        current_idx = bi_word2id[current_bigram]\n",
        "    return ' '.join(text)"
      ],
      "execution_count": 4,
      "outputs": []
    },
    {
      "cell_type": "code",
      "metadata": {
        "colab": {
          "base_uri": "https://localhost:8080/"
        },
        "id": "pHnqoe2azQ-U",
        "outputId": "e19a20d2-1359-485a-f5af-8cedf1f43285"
      },
      "source": [
        "print(generate(matrix_dvach, id2word_dvach, bi_word2id_dvach).replace('<end>', '\\n'))"
      ],
      "execution_count": null,
      "outputs": [
        {
          "output_type": "stream",
          "text": [
            "спроси лучше в скорую есть смысл позвонить \n",
            " 2016 не иметь \n",
            " аристотель бы сильно удивился если бы ты выкладывать в сеть видео на которых ты не выразишь всех ужасов войны но свои почему-то не предлагаешь \n",
            " так как слишком мало уточняющих факторов специально для тебя в голове \n",
            " слово кружок выдумали коммимрази \n",
            " с бутылки встань сначала зачем вставать \n",
            " казалось бы безопасной дистанции \n",
            " ты сам в это говно \n",
            " это не мешает это делать \n",
            " неуместные метафоры и сбитый ритм создают ощущение нескладности произведения но это было бы если это я бессознательно захожу по несколько раз в\n"
          ],
          "name": "stdout"
        }
      ]
    },
    {
      "cell_type": "code",
      "metadata": {
        "colab": {
          "base_uri": "https://localhost:8080/"
        },
        "id": "sfiXau79D8tV",
        "outputId": "971dfef4-98cc-4065-d824-a0c71703683f"
      },
      "source": [
        "print(generate(matrix_news, id2word_news, bi_word2id_news).replace('<end>', '\\n'))"
      ],
      "execution_count": null,
      "outputs": [
        {
          "output_type": "stream",
          "text": [
            "как сообщает риа новости 25 млн долларов было выделено шамилю басаеву частными лицами и общественными организациями происламского толка \n",
            " основная причина распространения болезни отсутствие достаточных средств на предмет проблемы 2000 стран а также выработка неотложных мер по пресечению подобных действий организовав лишь оцепление омоном здания правительства на состоявшейся после встречи с руководством района и представителями мвд республики собравшиеся разблокировали дорогу и разошлись \n",
            " пресс-служба увд приморского края сообщает что в здании никаких взрывных устройств и взрывчатых веществ который по каким-то причинам мог взорваться \n",
            " наша боль безмерна \n",
            " это — здоровый детина с типично прусским наглым лицом и мутными глазами\n"
          ],
          "name": "stdout"
        }
      ]
    },
    {
      "cell_type": "markdown",
      "metadata": {
        "id": "4ZjYg89S7U-1"
      },
      "source": [
        "Я попробовала сгенерировать текст на основе корпуса сценариев Тарантино, но получилось как-то не очень( Наверное, дело в том, что их нужно сначала очистить от всей метаинформации типа авторских ремарок и имен персонажей."
      ]
    },
    {
      "cell_type": "markdown",
      "metadata": {
        "id": "X3ClPvtCHS1k"
      },
      "source": [
        "**Задание 2**"
      ]
    },
    {
      "cell_type": "code",
      "metadata": {
        "id": "Q-iLv7nFcXam"
      },
      "source": [
        "import gensim\n",
        "from razdel import sentenize\n",
        "from pymorphy2 import MorphAnalyzer\n",
        "from nltk.corpus import stopwords\n",
        "import re\n",
        "from collections import Counter\n",
        "import numpy as np"
      ],
      "execution_count": 44,
      "outputs": []
    },
    {
      "cell_type": "code",
      "metadata": {
        "id": "lVoR49lEcXXJ"
      },
      "source": [
        "stops = set(stopwords.words('russian') + [\"это\", \"весь\"])\n",
        "morph = MorphAnalyzer()\n",
        "\n",
        "def normalize(text):\n",
        "    tokens = re.findall('[а-яёa-z0-9]+', text.lower())\n",
        "    normalized_text = [morph.parse(word)[0].normal_form for word \\\n",
        "                                                            in tokens]\n",
        "    normalized_text = [word for word in normalized_text if len(word) > 2 and word not in stops]\n",
        "    \n",
        "    return normalized_text\n",
        "\n",
        "def preprocess(text):\n",
        "    sents = sentenize(text)\n",
        "    return [normalize(sent.text) for sent in sents]"
      ],
      "execution_count": 32,
      "outputs": []
    },
    {
      "cell_type": "code",
      "metadata": {
        "id": "3UGlWf60dHNo"
      },
      "source": [
        "with open('lenta.txt', 'r', encoding='utf-8') as f:\n",
        "  corpus = f.read()\n",
        "\n",
        "corpus = preprocess(corpus)"
      ],
      "execution_count": 30,
      "outputs": []
    },
    {
      "cell_type": "code",
      "metadata": {
        "id": "DV9UKhRtgIN_"
      },
      "source": [
        "def pmi_scorer(worda_count, wordb_count, bigram_count, len_vocab, min_count, corpus_word_count):\n",
        "    try:\n",
        "      pmi_score = np.log((bigram_count/corpus_word_count) / ((worda_count/corpus_word_count) * (wordb_count/corpus_word_count)))\n",
        "    except ZeroDivisionError:\n",
        "      return 0\n",
        "      \n",
        "    return pmi_score"
      ],
      "execution_count": 94,
      "outputs": []
    },
    {
      "cell_type": "markdown",
      "metadata": {
        "id": "TMu34U8V5gcz"
      },
      "source": [
        "Попробуем установить порог вхождения 0 и проведем последовательное обучение:"
      ]
    },
    {
      "cell_type": "code",
      "metadata": {
        "colab": {
          "base_uri": "https://localhost:8080/"
        },
        "id": "cqIevukSgzya",
        "outputId": "14270b9b-d39a-4371-c020-759dcb4b9b60"
      },
      "source": [
        "ph = gensim.models.Phrases(corpus, scoring=pmi_scorer, threshold=0.00)\n",
        "p = gensim.models.phrases.Phraser(ph)\n",
        "ph2 = gensim.models.Phrases(p[corpus])\n",
        "p2 = gensim.models.phrases.Phraser(ph2)\n",
        "p2[p[corpus[300]]]"
      ],
      "execution_count": 117,
      "outputs": [
        {
          "output_type": "execute_result",
          "data": {
            "text/plain": [
              "['мера_расследование',\n",
              " 'необходимо_сделать',\n",
              " 'вывод_получить',\n",
              " 'удовлетворительный_информация',\n",
              " 'использование_прежний',\n",
              " 'кредит_сказать',\n",
              " 'саммерс_министр',\n",
              " 'юстиция_юрий',\n",
              " 'чайка_направить',\n",
              " 'руководитель_территориальный',\n",
              " 'орган_учреждение',\n",
              " 'минюст_письмо',\n",
              " 'который_качество',\n",
              " 'главный_задача',\n",
              " 'близкий_месяц',\n",
              " 'обязать_организовать',\n",
              " 'постоянный_контроль',\n",
              " 'деятельность_политический',\n",
              " 'общественный_объединение',\n",
              " 'участвовать_выборы',\n",
              " 'обратить_особый',\n",
              " 'внимание_соответствие',\n",
              " 'проводить_мероприятие',\n",
              " 'уставный_цель']"
            ]
          },
          "metadata": {
            "tags": []
          },
          "execution_count": 117
        }
      ]
    },
    {
      "cell_type": "markdown",
      "metadata": {
        "id": "2PIUgu7758FH"
      },
      "source": [
        "Как и ожидалось, все нграммы проходят порог. Теперь повысим его до 5 и проверим результат на том же предложении:"
      ]
    },
    {
      "cell_type": "code",
      "metadata": {
        "colab": {
          "base_uri": "https://localhost:8080/"
        },
        "id": "Pg3meqJZ2qHW",
        "outputId": "59854230-abac-46da-f1f0-8f5235de54e3"
      },
      "source": [
        "ph = gensim.models.Phrases(corpus, scoring=pmi_scorer, threshold=5.00)\n",
        "p = gensim.models.phrases.Phraser(ph)\n",
        "ph2 = gensim.models.Phrases(p[corpus])\n",
        "p2 = gensim.models.phrases.Phraser(ph2)\n",
        "p2[p[corpus[300]]]"
      ],
      "execution_count": 119,
      "outputs": [
        {
          "output_type": "execute_result",
          "data": {
            "text/plain": [
              "['мера',\n",
              " 'расследование',\n",
              " 'необходимо',\n",
              " 'сделать_вывод',\n",
              " 'получить',\n",
              " 'удовлетворительный',\n",
              " 'информация',\n",
              " 'использование',\n",
              " 'прежний',\n",
              " 'кредит',\n",
              " 'сказать',\n",
              " 'саммерс',\n",
              " 'министр_юстиция_юрий',\n",
              " 'чайка',\n",
              " 'направить',\n",
              " 'руководитель',\n",
              " 'территориальный_орган',\n",
              " 'учреждение',\n",
              " 'минюст',\n",
              " 'письмо',\n",
              " 'который',\n",
              " 'качество',\n",
              " 'главный_задача',\n",
              " 'близкий_месяц',\n",
              " 'обязать',\n",
              " 'организовать',\n",
              " 'постоянный',\n",
              " 'контроль',\n",
              " 'деятельность',\n",
              " 'политический',\n",
              " 'общественный_объединение',\n",
              " 'участвовать_выборы',\n",
              " 'обратить_особый',\n",
              " 'внимание',\n",
              " 'соответствие',\n",
              " 'проводить',\n",
              " 'мероприятие',\n",
              " 'уставный_цель']"
            ]
          },
          "metadata": {
            "tags": []
          },
          "execution_count": 119
        }
      ]
    },
    {
      "cell_type": "markdown",
      "metadata": {
        "id": "z-vuibVC6WMl"
      },
      "source": [
        "Уже лучше, но кажется, что некоторые сочетания (министр_юстиция_Юрий, обратить_особый) все-таки не совсем оправданы. Теперь попробуем поставить порог в 10, 20 и  - на всякий случай - 100:"
      ]
    },
    {
      "cell_type": "code",
      "metadata": {
        "colab": {
          "base_uri": "https://localhost:8080/"
        },
        "id": "13OiqJGp6ZO6",
        "outputId": "12f56d29-a1de-4d50-ee15-984723a68b41"
      },
      "source": [
        "ph = gensim.models.Phrases(corpus, scoring=pmi_scorer, threshold=10.00)\n",
        "p = gensim.models.phrases.Phraser(ph)\n",
        "ph2 = gensim.models.Phrases(p[corpus])\n",
        "p2 = gensim.models.phrases.Phraser(ph2)\n",
        "p2[p[corpus[300]]]"
      ],
      "execution_count": 121,
      "outputs": [
        {
          "output_type": "execute_result",
          "data": {
            "text/plain": [
              "['мера',\n",
              " 'расследование',\n",
              " 'необходимо',\n",
              " 'сделать_вывод',\n",
              " 'получить',\n",
              " 'удовлетворительный',\n",
              " 'информация',\n",
              " 'использование',\n",
              " 'прежний',\n",
              " 'кредит',\n",
              " 'сказать',\n",
              " 'саммерс',\n",
              " 'министр_юстиция',\n",
              " 'юрий_чайка',\n",
              " 'направить',\n",
              " 'руководитель',\n",
              " 'территориальный_орган',\n",
              " 'учреждение',\n",
              " 'минюст',\n",
              " 'письмо',\n",
              " 'который',\n",
              " 'качество',\n",
              " 'главный_задача',\n",
              " 'близкий',\n",
              " 'месяц',\n",
              " 'обязать',\n",
              " 'организовать',\n",
              " 'постоянный',\n",
              " 'контроль',\n",
              " 'деятельность',\n",
              " 'политический_общественный',\n",
              " 'объединение',\n",
              " 'участвовать_выборы',\n",
              " 'обратить',\n",
              " 'особый_внимание',\n",
              " 'соответствие',\n",
              " 'проводить',\n",
              " 'мероприятие',\n",
              " 'уставный',\n",
              " 'цель']"
            ]
          },
          "metadata": {
            "tags": []
          },
          "execution_count": 121
        }
      ]
    },
    {
      "cell_type": "code",
      "metadata": {
        "colab": {
          "base_uri": "https://localhost:8080/"
        },
        "id": "fn65SGKZ7-vL",
        "outputId": "6ceff402-8f27-462e-a97e-25e9a4e8994f"
      },
      "source": [
        "ph = gensim.models.Phrases(corpus, scoring=pmi_scorer, threshold=20.00)\n",
        "p = gensim.models.phrases.Phraser(ph)\n",
        "ph2 = gensim.models.Phrases(p[corpus])\n",
        "p2 = gensim.models.phrases.Phraser(ph2)\n",
        "p2[p[corpus[300]]]"
      ],
      "execution_count": 122,
      "outputs": [
        {
          "output_type": "execute_result",
          "data": {
            "text/plain": [
              "['мера',\n",
              " 'расследование',\n",
              " 'необходимо',\n",
              " 'сделать_вывод',\n",
              " 'получить',\n",
              " 'удовлетворительный',\n",
              " 'информация',\n",
              " 'использование',\n",
              " 'прежний',\n",
              " 'кредит',\n",
              " 'сказать',\n",
              " 'саммерс',\n",
              " 'министр_юстиция',\n",
              " 'юрий_чайка',\n",
              " 'направить',\n",
              " 'руководитель',\n",
              " 'территориальный_орган',\n",
              " 'учреждение',\n",
              " 'минюст',\n",
              " 'письмо',\n",
              " 'который',\n",
              " 'качество',\n",
              " 'главный_задача',\n",
              " 'близкий_месяц',\n",
              " 'обязать',\n",
              " 'организовать',\n",
              " 'постоянный',\n",
              " 'контроль',\n",
              " 'деятельность',\n",
              " 'политический_общественный',\n",
              " 'объединение',\n",
              " 'участвовать_выборы',\n",
              " 'обратить',\n",
              " 'особый_внимание',\n",
              " 'соответствие',\n",
              " 'проводить',\n",
              " 'мероприятие',\n",
              " 'уставный',\n",
              " 'цель']"
            ]
          },
          "metadata": {
            "tags": []
          },
          "execution_count": 122
        }
      ]
    },
    {
      "cell_type": "code",
      "metadata": {
        "colab": {
          "base_uri": "https://localhost:8080/"
        },
        "id": "IlQ8lG-D8ARf",
        "outputId": "63a60ae7-fb56-4b81-f768-8e1f47b9194b"
      },
      "source": [
        "ph = gensim.models.Phrases(corpus, scoring=pmi_scorer, threshold=100.00)\n",
        "p = gensim.models.phrases.Phraser(ph)\n",
        "ph2 = gensim.models.Phrases(p[corpus])\n",
        "p2 = gensim.models.phrases.Phraser(ph2)\n",
        "p2[p[corpus[300]]]"
      ],
      "execution_count": 123,
      "outputs": [
        {
          "output_type": "execute_result",
          "data": {
            "text/plain": [
              "['мера',\n",
              " 'расследование',\n",
              " 'необходимо',\n",
              " 'сделать_вывод',\n",
              " 'получить',\n",
              " 'удовлетворительный',\n",
              " 'информация',\n",
              " 'использование',\n",
              " 'прежний',\n",
              " 'кредит',\n",
              " 'сказать',\n",
              " 'саммерс',\n",
              " 'министр_юстиция',\n",
              " 'юрий_чайка',\n",
              " 'направить',\n",
              " 'руководитель',\n",
              " 'территориальный_орган',\n",
              " 'учреждение',\n",
              " 'минюст',\n",
              " 'письмо',\n",
              " 'который',\n",
              " 'качество',\n",
              " 'главный_задача',\n",
              " 'близкий_месяц',\n",
              " 'обязать',\n",
              " 'организовать',\n",
              " 'постоянный',\n",
              " 'контроль',\n",
              " 'деятельность',\n",
              " 'политический_общественный',\n",
              " 'объединение',\n",
              " 'участвовать_выборы',\n",
              " 'обратить',\n",
              " 'особый_внимание',\n",
              " 'соответствие',\n",
              " 'проводить',\n",
              " 'мероприятие',\n",
              " 'уставный',\n",
              " 'цель']"
            ]
          },
          "metadata": {
            "tags": []
          },
          "execution_count": 123
        }
      ]
    },
    {
      "cell_type": "markdown",
      "metadata": {
        "id": "uCFw2kfL7NGy"
      },
      "source": [
        "Странно, но, кажется, повышение порога не меняет результат. Скорее всего, это значит, что в моей функции, вычисляющей PMI, что-то пошло не так."
      ]
    }
  ]
}
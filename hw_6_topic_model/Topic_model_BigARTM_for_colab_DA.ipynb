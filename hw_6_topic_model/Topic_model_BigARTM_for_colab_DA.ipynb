{
  "nbformat": 4,
  "nbformat_minor": 0,
  "metadata": {
    "colab": {
      "name": "Topic_model_BigARTM_for_colab_DA.ipynb",
      "provenance": [],
      "collapsed_sections": []
    },
    "kernelspec": {
      "display_name": "Python 3",
      "language": "python",
      "name": "python3"
    },
    "language_info": {
      "codemirror_mode": {
        "name": "ipython",
        "version": 3
      },
      "file_extension": ".py",
      "mimetype": "text/x-python",
      "name": "python",
      "nbconvert_exporter": "python",
      "pygments_lexer": "ipython3",
      "version": "3.5.2"
    }
  },
  "cells": [
    {
      "cell_type": "code",
      "metadata": {
        "colab": {
          "base_uri": "https://localhost:8080/"
        },
        "id": "syGkglti0YFf",
        "outputId": "556e90a4-16ae-4ef3-f1a5-ef4d4e482994"
      },
      "source": [
        "import artm\n",
        "%matplotlib inline\n",
        "import glob\n",
        "import os, re\n",
        "import matplotlib.pyplot as plt\n",
        "from collections import defaultdict, Counter\n",
        "from nltk.corpus import stopwords\n",
        "import numpy as np\n",
        "from pymorphy2 import MorphAnalyzer\n",
        "import gensim, nltk\n",
        "morph = MorphAnalyzer()\n",
        "from nltk.tokenize import word_tokenize"
      ],
      "execution_count": 12,
      "outputs": [
        {
          "output_type": "stream",
          "text": [
            "/usr/local/lib/python3.6/dist-packages/scipy/sparse/sparsetools.py:21: DeprecationWarning: `scipy.sparse.sparsetools` is deprecated!\n",
            "scipy.sparse.sparsetools is a private module for scipy.sparse, and should not be used.\n",
            "  _deprecated()\n",
            "/usr/local/lib/python3.6/dist-packages/pymorphy2/units/base.py:70: DeprecationWarning: inspect.getargspec() is deprecated since Python 3.0, use inspect.signature() or inspect.getfullargspec()\n",
            "  args, varargs, kw, default = inspect.getargspec(cls.__init__)\n"
          ],
          "name": "stderr"
        }
      ]
    },
    {
      "cell_type": "markdown",
      "metadata": {
        "id": "BbiBknPKLzHH"
      },
      "source": [
        "Функции для препроцессинга. Нужно обязательно удалить стоп-слова, а то они заполоняют все темы."
      ]
    },
    {
      "cell_type": "code",
      "metadata": {
        "id": "1hLw-SVu0YFm"
      },
      "source": [
        "def remove_tags(text):\n",
        "    return re.sub(r'<[^>]+>', '', text)\n",
        "\n",
        "def clean(words):\n",
        "    clean = [morph.parse(word)[0].normal_form for word in words if word.isalnum() and word not in stopwords.words('russian')]\n",
        "    return clean"
      ],
      "execution_count": 62,
      "outputs": []
    },
    {
      "cell_type": "markdown",
      "metadata": {
        "id": "DSY7f6YmCp3s"
      },
      "source": [
        "Загружаем тексты:\r\n",
        "\r\n"
      ]
    },
    {
      "cell_type": "code",
      "metadata": {
        "id": "NDHkAaPb0YFp"
      },
      "source": [
        "habr_texts = [clean(word_tokenize(remove_tags(text.lower()))) for text in open('habr_texts.txt')]"
      ],
      "execution_count": 63,
      "outputs": []
    },
    {
      "cell_type": "markdown",
      "metadata": {
        "id": "H-yNcrd1DqwE"
      },
      "source": [
        "Добавляем нграммы:"
      ]
    },
    {
      "cell_type": "code",
      "metadata": {
        "id": "o_yHUX490YFr"
      },
      "source": [
        "ph = gensim.models.Phrases(habr_texts, scoring='npmi', threshold=0.5, \n",
        "                           common_terms=set(stopwords.words('russian')))\n",
        "\n",
        "p = gensim.models.phrases.Phraser(ph)\n",
        "ngrammed_habr_texts = p[habr_texts]"
      ],
      "execution_count": 64,
      "outputs": []
    },
    {
      "cell_type": "markdown",
      "metadata": {
        "id": "e2Fe1dtrDmTe"
      },
      "source": [
        "Переводим в vw-формат:"
      ]
    },
    {
      "cell_type": "code",
      "metadata": {
        "id": "SZD1bmhR0YFw"
      },
      "source": [
        "f = open('habr_texts.vw', 'w')\n",
        "\n",
        "for i, text in enumerate(ngrammed_habr_texts):\n",
        "    c = Counter(text)\n",
        "    doc = 'doc_'+ str(i) + ' '\n",
        "    vw_text = ' '.join([x+':'+str(c[x]) for x in c])\n",
        "    \n",
        "    f.write(doc + vw_text  + '\\n')\n",
        "f.close()\n",
        "\n"
      ],
      "execution_count": 65,
      "outputs": []
    },
    {
      "cell_type": "markdown",
      "metadata": {
        "id": "VO4xO6zT0YFy"
      },
      "source": [
        "Функция оценки:"
      ]
    },
    {
      "cell_type": "code",
      "metadata": {
        "id": "xchX4sBs0YFz"
      },
      "source": [
        "def print_measures(model_artm):\n",
        "    print('Sparsity Phi: {0:.3f} ARTM)'.format(\n",
        "        model_artm.score_tracker['SparsityPhiScore'].last_value)\n",
        ")\n",
        "    print('Sparsity Theta: {0:.3f} (ARTM)'.format(\n",
        "        model_artm.score_tracker['SparsityThetaScore'].last_value))\n",
        "\n",
        "    print('Kernel contrast: {0:.3f} (ARTM)'.format(\n",
        "        model_artm.score_tracker['TopicKernelScore'].last_average_contrast))\n",
        "\n",
        "    print('Kernel purity: {0:.3f} (ARTM)'.format(\n",
        "        model_artm.score_tracker['TopicKernelScore'].last_average_purity))\n",
        "\n",
        "    print('Perplexity: {0:.3f} (ARTM)'.format(\n",
        "        model_artm.score_tracker['PerplexityScore'].last_value)\n",
        ")\n",
        "    plt.plot(range(model_artm.num_phi_updates), model_artm.score_tracker['PerplexityScore'].value, 'r--', linewidth=2)\n",
        "    plt.xlabel('Iterations count')\n",
        "    plt.ylabel(' ARTM perp. (red)')\n",
        "    plt.grid(True)\n",
        "    plt.show()\n",
        "    "
      ],
      "execution_count": 26,
      "outputs": []
    },
    {
      "cell_type": "markdown",
      "metadata": {
        "id": "GHFVe6gK0YF2"
      },
      "source": [
        "Разбиваем файл и загружаем батчи:"
      ]
    },
    {
      "cell_type": "code",
      "metadata": {
        "id": "NhIADC8O0YF2"
      },
      "source": [
        "batch_vectorizer = artm.BatchVectorizer(data_path='habr_texts.vw',\n",
        "                                        data_format='vowpal_wabbit',\n",
        "                                        target_folder='batches',\n",
        "                                       batch_size=1000)"
      ],
      "execution_count": 66,
      "outputs": []
    },
    {
      "cell_type": "code",
      "metadata": {
        "id": "AG7xR0gu0YF6"
      },
      "source": [
        "batch_vectorizer = artm.BatchVectorizer(data_path='batches',\n",
        "                                        data_format='batches')"
      ],
      "execution_count": 67,
      "outputs": []
    },
    {
      "cell_type": "markdown",
      "metadata": {
        "id": "sNAKhYQZ0YF-"
      },
      "source": [
        "Создаем словарь:"
      ]
    },
    {
      "cell_type": "code",
      "metadata": {
        "colab": {
          "base_uri": "https://localhost:8080/"
        },
        "id": "S6nXvdOq0YGA",
        "outputId": "7461cfa2-ef7d-40bc-dbb2-ffb9a81e882d"
      },
      "source": [
        "dictionary = artm.Dictionary()\n",
        "dictionary.gather(data_path='batches')\n",
        "dictionary.filter(class_id='@default_class',\n",
        "                  min_df=25, max_df=2000)"
      ],
      "execution_count": 88,
      "outputs": [
        {
          "output_type": "execute_result",
          "data": {
            "text/plain": [
              "artm.Dictionary(name=7cd6d892-926e-4d21-a422-694fd8c4953e, num_entries=8419)"
            ]
          },
          "metadata": {
            "tags": []
          },
          "execution_count": 88
        }
      ]
    },
    {
      "cell_type": "markdown",
      "metadata": {
        "id": "iYScANokGIFi"
      },
      "source": [
        "В словаре оказалось много непонятных слов на латинице, наверное, это какие-то программистские термины, потому что тексты с хабра. На всякий случай повысим минимальный порог."
      ]
    },
    {
      "cell_type": "code",
      "metadata": {
        "id": "I273a14r0YGC"
      },
      "source": [
        "dictionary.save_text('dict.txt')\n",
        "# dictionary = artm.Dictionary()\n",
        "# dictionary.load_text('dict.txt')"
      ],
      "execution_count": 89,
      "outputs": []
    },
    {
      "cell_type": "markdown",
      "metadata": {
        "id": "4PnPTG0kGy6D"
      },
      "source": [
        "На первый взгляд кажется, что стало лучше."
      ]
    },
    {
      "cell_type": "markdown",
      "metadata": {
        "id": "gFSkaZ7tHcoP"
      },
      "source": [
        "Обучим первую модель с уменьшенным (но положительным) тау для регуляризатора сглаживания и увеличенным для регуляризатора декорелляции."
      ]
    },
    {
      "cell_type": "code",
      "metadata": {
        "id": "7gTUMUh90YGG"
      },
      "source": [
        "model_artm_1 = artm.ARTM(topic_names=['topic_{}'.format(i) for i in range(200)],\n",
        "                       \n",
        "                       regularizers=[\n",
        "                           artm.DecorrelatorPhiRegularizer(\n",
        "                                            name='Decorr', tau=0.5, \n",
        "                                            class_ids=['@default_class'],\n",
        "                                            topic_names=['topic_{}'.format(i) for i in range(0, 200)]),\n",
        "                           \n",
        "                           artm.SmoothSparsePhiRegularizer(\n",
        "                                            name='SmoothPhi_1', \n",
        "                                            class_ids=['@default_class'],\n",
        "                                            tau=0.1, \n",
        "                                            topic_names=['topic_{}'.format(i) for i in range(0, 200)])\n",
        "                                    ]\n",
        "                        )\n",
        "model_artm_1.initialize(dictionary=dictionary)"
      ],
      "execution_count": 90,
      "outputs": []
    },
    {
      "cell_type": "code",
      "metadata": {
        "id": "M7ofKFaN0YGK"
      },
      "source": [
        "model_artm_1.scores.add(artm.PerplexityScore(name='PerplexityScore',\n",
        "                                                    dictionary=dictionary))\n",
        "model_artm_1.scores.add(artm.SparsityPhiScore(name='SparsityPhiScore')) # разреженность слов в темах\n",
        "model_artm_1.scores.add(artm.SparsityThetaScore(name='SparsityThetaScore')) # разреженность тем в доках\n",
        "model_artm_1.scores.add(artm.TopicKernelScore(name='TopicKernelScore', probability_mass_threshold=0.1)) # когерентность по семантичесим ядрам\n",
        "model_artm_1.scores.add(artm.TopTokensScore(class_id='@default_class', name='TopTokensScore_1', num_tokens=10)) # топ-n-слов для каждой темы "
      ],
      "execution_count": 91,
      "outputs": []
    },
    {
      "cell_type": "markdown",
      "metadata": {
        "id": "A7ih3cp10YGM"
      },
      "source": [
        "Обучаем модель. Увеличим число итераций\r\n",
        "\r\n"
      ]
    },
    {
      "cell_type": "code",
      "metadata": {
        "id": "d3UPM4bd0YGO"
      },
      "source": [
        "model_artm_1.num_document_passes = 2\n",
        "model_artm_1.fit_offline(batch_vectorizer=batch_vectorizer, num_collection_passes=3)"
      ],
      "execution_count": 92,
      "outputs": []
    },
    {
      "cell_type": "markdown",
      "metadata": {
        "id": "ESVQUJm90YGU"
      },
      "source": [
        "Добавляем регуляризаторы разреженности."
      ]
    },
    {
      "cell_type": "code",
      "metadata": {
        "id": "zx8f5J140YGU"
      },
      "source": [
        "model_artm_1.regularizers.add(artm.SmoothSparsePhiRegularizer(name='SparsePhi', tau=-0.15, \n",
        "                                                            topic_names=['topic_{}'.format(i) for i in range(1, 200)],\n",
        "                                                            ))\n",
        "model_artm_1.regularizers.add(artm.SmoothSparseThetaRegularizer(name='SparseTheta', tau=-0.15, \n",
        "                                                              topic_names=['topic_{}'.format(i) for i in range(1, 200)]))"
      ],
      "execution_count": 93,
      "outputs": []
    },
    {
      "cell_type": "code",
      "metadata": {
        "id": "d-XyXPrF0YGX"
      },
      "source": [
        "model_artm_1.fit_offline(batch_vectorizer=batch_vectorizer,num_collection_passes=1)"
      ],
      "execution_count": 94,
      "outputs": []
    },
    {
      "cell_type": "code",
      "metadata": {
        "id": "CWrgduzK0YGY"
      },
      "source": [
        "phi_tau = model_artm_1.regularizers['SparsePhi'].tau\n",
        "theta_tau = model_artm_1.regularizers['SparseTheta'].tau\n",
        "\n",
        "for i in range(10):\n",
        "    model_artm_1.regularizers['SparsePhi'].tau = (phi_tau + (phi_tau*0.5))\n",
        "    model_artm_1.regularizers['SparseTheta'].tau = (theta_tau + (theta_tau*0.1))\n",
        "    \n",
        "    model_artm_1.fit_offline(batch_vectorizer=batch_vectorizer,num_collection_passes=1)\n",
        "    "
      ],
      "execution_count": 95,
      "outputs": []
    },
    {
      "cell_type": "markdown",
      "metadata": {
        "id": "JaYArnXQKqBY"
      },
      "source": [
        "Теперь обучим вторую модель с другими параметрами и сделаем все то же самое:"
      ]
    },
    {
      "cell_type": "code",
      "metadata": {
        "id": "NAUy5VNu0YGi"
      },
      "source": [
        "model_artm_2 = artm.ARTM(topic_names=['topic_{}'.format(i) for i in range(100)],\r\n",
        "                       \r\n",
        "                       regularizers=[\r\n",
        "                           artm.DecorrelatorPhiRegularizer(\r\n",
        "                                            name='Decorr', tau=0.3, \r\n",
        "                                            class_ids=['@default_class'],\r\n",
        "                                            topic_names=['topic_{}'.format(i) for i in range(0, 100)]),\r\n",
        "                           \r\n",
        "                           artm.SmoothSparsePhiRegularizer(\r\n",
        "                                            name='SmoothPhi_1', \r\n",
        "                                            class_ids=['@default_class'],\r\n",
        "                                            tau=0.2, \r\n",
        "                                            topic_names=['topic_{}'.format(i) for i in range(0, 100)])\r\n",
        "                                    ]\r\n",
        "                        )\r\n",
        "model_artm_2.initialize(dictionary=dictionary)"
      ],
      "execution_count": 98,
      "outputs": []
    },
    {
      "cell_type": "code",
      "metadata": {
        "id": "NQ63kHcHS9m7"
      },
      "source": [
        "model_artm_2.scores.add(artm.PerplexityScore(name='PerplexityScore',\r\n",
        "                                                    dictionary=dictionary))\r\n",
        "model_artm_2.scores.add(artm.SparsityPhiScore(name='SparsityPhiScore')) # разреженность слов в темах\r\n",
        "model_artm_2.scores.add(artm.SparsityThetaScore(name='SparsityThetaScore')) # разреженность тем в доках\r\n",
        "model_artm_2.scores.add(artm.TopicKernelScore(name='TopicKernelScore', probability_mass_threshold=0.1)) # когерентность по семантичесим ядрам\r\n",
        "model_artm_2.scores.add(artm.TopTokensScore(class_id='@default_class', name='TopTokensScore_1', num_tokens=10)) # топ-n-слов для каждой темы"
      ],
      "execution_count": 99,
      "outputs": []
    },
    {
      "cell_type": "code",
      "metadata": {
        "id": "zVByVZ-mS90J"
      },
      "source": [
        "model_artm_2.num_document_passes = 2\r\n",
        "model_artm_2.fit_offline(batch_vectorizer=batch_vectorizer, num_collection_passes=3)"
      ],
      "execution_count": 100,
      "outputs": []
    },
    {
      "cell_type": "code",
      "metadata": {
        "id": "bKyQwyLkS94F"
      },
      "source": [
        "model_artm_2.regularizers.add(artm.SmoothSparsePhiRegularizer(name='SparsePhi', tau=-0.15, \r\n",
        "                                                            topic_names=['topic_{}'.format(i) for i in range(1, 100)],\r\n",
        "                                                            ))\r\n",
        "model_artm_2.regularizers.add(artm.SmoothSparseThetaRegularizer(name='SparseTheta', tau=-0.15, \r\n",
        "                                                              topic_names=['topic_{}'.format(i) for i in range(1, 100)]))"
      ],
      "execution_count": 102,
      "outputs": []
    },
    {
      "cell_type": "code",
      "metadata": {
        "id": "O3iLNrsxS-FK"
      },
      "source": [
        "model_artm_2.fit_offline(batch_vectorizer=batch_vectorizer,num_collection_passes=1)"
      ],
      "execution_count": 103,
      "outputs": []
    },
    {
      "cell_type": "code",
      "metadata": {
        "id": "IWejTGnfTUPr"
      },
      "source": [
        "phi_tau = model_artm_2.regularizers['SparsePhi'].tau\r\n",
        "theta_tau = model_artm_2.regularizers['SparseTheta'].tau\r\n",
        "\r\n",
        "for i in range(10):\r\n",
        "    model_artm_2.regularizers['SparsePhi'].tau = (phi_tau + (phi_tau*0.5))\r\n",
        "    model_artm_2.regularizers['SparseTheta'].tau = (theta_tau + (theta_tau*0.1))\r\n",
        "    \r\n",
        "    model_artm_2.fit_offline(batch_vectorizer=batch_vectorizer,num_collection_passes=1)"
      ],
      "execution_count": 105,
      "outputs": []
    },
    {
      "cell_type": "markdown",
      "metadata": {
        "id": "ekRP9xovVU_c"
      },
      "source": [
        "Две модели, которые я обучила, различались, во-первых, количеством тем (200 и 100 соответственно), а во-вторых, значениями тау у регуляризаторов. Они показали примерно одинаковый результат (перплексия 244 у первой и 270 у второй), я буду описывать вторую, т.к.в нее было внесено больше изменений.\r\n",
        "\r\n",
        "Вот три хороших темы:\r\n",
        "\r\n",
        "topic_1: \r\n",
        "устройство\r\n",
        "уязвимость\r\n",
        "атака\r\n",
        "защита\r\n",
        "злоумышленник\r\n",
        "сеть\r\n",
        "уровень\r\n",
        "данные\r\n",
        "угроза\r\n",
        "атаковать\r\n",
        "\r\n",
        "topic_16: \r\n",
        "доклад\r\n",
        "всё\r\n",
        "проект\r\n",
        "конференция\r\n",
        "выступление\r\n",
        "человек\r\n",
        "день\r\n",
        "хороший\r\n",
        "интересный\r\n",
        "спикер\r\n",
        "\r\n",
        "topic_19: \r\n",
        "the\r\n",
        "to\r\n",
        "in\r\n",
        "a\r\n",
        "for\r\n",
        "end\r\n",
        "on\r\n",
        "and\r\n",
        "is\r\n",
        "i\r\n",
        "\r\n",
        "График обучения:\r\n",
        "\r\n",
        "\r\n"
      ]
    },
    {
      "cell_type": "code",
      "metadata": {
        "colab": {
          "base_uri": "https://localhost:8080/",
          "height": 366
        },
        "id": "D93XRtZoTUbB",
        "outputId": "ed81be58-6493-4f39-e138-b5b3a5a63cca"
      },
      "source": [
        "print_measures(model_artm_2)"
      ],
      "execution_count": 106,
      "outputs": [
        {
          "output_type": "stream",
          "text": [
            "Sparsity Phi: 0.292 ARTM)\n",
            "Sparsity Theta: 0.030 (ARTM)\n",
            "Kernel contrast: 0.190 (ARTM)\n",
            "Kernel purity: 0.180 (ARTM)\n",
            "Perplexity: 270.929 (ARTM)\n"
          ],
          "name": "stdout"
        },
        {
          "output_type": "display_data",
          "data": {
            "image/png": "[encoded data removed]",
            "text/plain": [
              "<Figure size 432x288 with 1 Axes>"
            ]
          },
          "metadata": {
            "tags": [],
            "needs_background": "light"
          }
        }
      ]
    },
    {
      "cell_type": "markdown",
      "metadata": {
        "id": "297bxw9gXWAh"
      },
      "source": [
        "Модель работала со 100 темами и двумя регуляризаторами: декорреляции (tau=0.3) и сглаживания (tau=0.2). Перплексия модели начала снижаться особенно активно после четвертой итерации обучения."
      ]
    }
  ]
}